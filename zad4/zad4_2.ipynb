{
 "cells": [
  {
   "cell_type": "code",
   "execution_count": 2,
   "metadata": {},
   "outputs": [],
   "source": [
    "przedmioty=['metodologia','anatomia','statystyka','komunikacja']"
   ]
  },
  {
   "cell_type": "code",
   "execution_count": 6,
   "metadata": {},
   "outputs": [
    {
     "name": "stdin",
     "output_type": "stream",
     "text": [
      "podaj ocene 4\n",
      "podaj_2_ocene 3\n",
      "podaj_3_ocene 3\n",
      "podaj_4_ocene 4\n"
     ]
    },
    {
     "name": "stdout",
     "output_type": "stream",
     "text": [
      "[4.0, 3.0, 3.0, 4.0]\n"
     ]
    }
   ],
   "source": [
    "oceny=[]\n",
    "metodologia=input('podaj ocene')\n",
    "oceny.append(float(metodologia))\n",
    "\n",
    "anatomia=input('podaj_2_ocene')\n",
    "oceny.append(float(anatomia))\n",
    "\n",
    "statystyka=input('podaj_3_ocene')\n",
    "oceny.append(float(statystyka))\n",
    "\n",
    "komunikacja=input('podaj_4_ocene')\n",
    "oceny.append(float(komunikacja))\n",
    "print(oceny)"
   ]
  },
  {
   "cell_type": "code",
   "execution_count": 7,
   "metadata": {},
   "outputs": [],
   "source": [
    "srednia=sum(oceny)/len(przedmioty)"
   ]
  },
  {
   "cell_type": "code",
   "execution_count": 8,
   "metadata": {},
   "outputs": [
    {
     "name": "stdout",
     "output_type": "stream",
     "text": [
      "3.5\n"
     ]
    }
   ],
   "source": [
    "print(srednia)"
   ]
  },
  {
   "cell_type": "code",
   "execution_count": 9,
   "metadata": {},
   "outputs": [
    {
     "data": {
      "text/plain": [
       "'Moja srednia w pierwszym semestrze studiow to 3.5'"
      ]
     },
     "execution_count": 9,
     "metadata": {},
     "output_type": "execute_result"
    }
   ],
   "source": [
    "'Moja srednia w pierwszym semestrze studiow to ' +str(srednia)"
   ]
  },
  {
   "cell_type": "code",
   "execution_count": null,
   "metadata": {},
   "outputs": [],
   "source": []
  }
 ],
 "metadata": {
  "kernelspec": {
   "display_name": "Python 3",
   "language": "python",
   "name": "python3"
  },
  "language_info": {
   "codemirror_mode": {
    "name": "ipython",
    "version": 3
   },
   "file_extension": ".py",
   "mimetype": "text/x-python",
   "name": "python",
   "nbconvert_exporter": "python",
   "pygments_lexer": "ipython3",
   "version": "3.7.0"
  }
 },
 "nbformat": 4,
 "nbformat_minor": 2
}
