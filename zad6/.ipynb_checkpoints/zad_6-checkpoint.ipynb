{
 "cells": [
  {
   "cell_type": "code",
   "execution_count": 1,
   "metadata": {},
   "outputs": [],
   "source": [
    "pyt_1 = 'Lubisz wygląd swojego nosa'\n",
    "pyt_2 = 'Rodzina jest dla ciebie najżwyższą wartością'\n",
    "pyt_3 = 'Uważasz, że masz poczucie humoru'\n",
    "pyt_4 = 'Sport to twoja pasja'\n",
    "pyt_5 = 'Uważasz siebie za osobę niezwykle inteligentną'\n",
    "punkty = []"
   ]
  },
  {
   "cell_type": "code",
   "execution_count": 2,
   "metadata": {},
   "outputs": [],
   "source": [
    "def test(os):\n",
    "\n",
    "    lista_pytan = [pyt_1, pyt_2, pyt_3, pyt_4, pyt_5]\n",
    "    \n",
    "def zadaj_pytanie(pyt_1):\n",
    "        \n",
    "    print(pyt_1)\n",
    "    pyt_1x = input(\"1 oznacza zupełnie się nie zgadzam, a 5 oznacza całkowicie się zgadzam:\")\n",
    "    pyt_1x = int(pyt_1x)\n",
    "    return pyt_1x\n"
   ]
  },
  {
   "cell_type": "code",
   "execution_count": null,
   "metadata": {},
   "outputs": [],
   "source": [
    "print('Witaj!Ten test powie ci jaką postacią z serii o Harrym Potterze jesteś.Czy zgadzasz się z poniższymi stwierdzeniami?')\n",
    "liczba =  zadaj_pytanie(pyt_1)\n",
    "punkty.append(liczba)\n",
    "liczba =  zadaj_pytanie(pyt_2)\n",
    "punkty.append(liczba)\n",
    "liczba =  zadaj_pytanie(pyt_3)\n",
    "punkty.append(liczba)\n",
    "liczba =  zadaj_pytanie(pyt_4)\n",
    "punkty.append(liczba)\n",
    "liczba =  zadaj_pytanie(pyt_5)\n",
    "punkty.append(liczba)\n",
    "wynik = sum(punkty)\n",
    "wynik = int(wynik)\n",
    "if wynik > 5 and wynik < 10:\n",
    "    print(\"Twój wynik:\", wynik, \".\", \"Jesteś:Harry Potter\")\n",
    "elif wynik == 5:\n",
    "    print(\"Twój wynik:\", wynik, \".\", \"Jesteś:Draco Malfoy\")\n",
    "elif wynik >= 10 and wynik < 15:\n",
    "    print(\"Twój wynik:\", wynik, \".\", \"Jesteś:Hermiona Granger\")\n",
    "elif wynik >= 15 and wynik < 20:\n",
    "    print(\"Twój wynik:\", wynik, \".\", \"Jesteś:Albus Dumbledore\")\n",
    "elif wynik >=20 and wynik < 25:\n",
    "    print(\"Twój wynik:\", wynik, \".\", \"Jesteś:Severus Snape\")\n",
    "elif wynik == 25:\n",
    "    print(\"Twój wynik:\", wynik, \".\", \"Jesteś:Voldemort\")\n",
    "    \n",
    "if wynik > 0:\n",
    "    punkty.pop(0)\n",
    "    punkty.pop(0)\n",
    "    punkty.pop(0)\n",
    "    punkty.pop(0)\n",
    "    punkty.pop(0)\n"
   ]
  },
  {
   "cell_type": "code",
   "execution_count": null,
   "metadata": {},
   "outputs": [],
   "source": []
  }
 ],
 "metadata": {
  "kernelspec": {
   "display_name": "Python 3",
   "language": "python",
   "name": "python3"
  },
  "language_info": {
   "codemirror_mode": {
    "name": "ipython",
    "version": 3
   },
   "file_extension": ".py",
   "mimetype": "text/x-python",
   "name": "python",
   "nbconvert_exporter": "python",
   "pygments_lexer": "ipython3",
   "version": "3.7.0"
  }
 },
 "nbformat": 4,
 "nbformat_minor": 2
}
